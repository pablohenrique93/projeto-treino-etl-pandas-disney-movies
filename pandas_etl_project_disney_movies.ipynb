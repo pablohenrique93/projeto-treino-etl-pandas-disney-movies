{
  "nbformat": 4,
  "nbformat_minor": 0,
  "metadata": {
    "colab": {
      "provenance": [],
      "toc_visible": true,
      "authorship_tag": "ABX9TyPyAL18bvUTr67pHsRFP5DM",
      "include_colab_link": true
    },
    "kernelspec": {
      "name": "python3",
      "display_name": "Python 3"
    },
    "language_info": {
      "name": "python"
    }
  },
  "cells": [
    {
      "cell_type": "markdown",
      "metadata": {
        "id": "view-in-github",
        "colab_type": "text"
      },
      "source": [
        "<a href=\"https://colab.research.google.com/github/pablohenrique93/projeto-treino-etl-pandas-disney-movies-/blob/main/pandas_etl_project_disney_movies.ipynb\" target=\"_parent\"><img src=\"https://colab.research.google.com/assets/colab-badge.svg\" alt=\"Open In Colab\"/></a>"
      ]
    },
    {
      "cell_type": "markdown",
      "source": [
        "# Instalação das Bibliotecas"
      ],
      "metadata": {
        "id": "xFuaK1wpy71Y"
      }
    },
    {
      "cell_type": "code",
      "execution_count": null,
      "metadata": {
        "id": "mGzpkSiRy0cZ"
      },
      "outputs": [],
      "source": [
        "pip install pandera"
      ]
    },
    {
      "cell_type": "code",
      "source": [
        "pip install pymongo"
      ],
      "metadata": {
        "id": "CeAL-3iLzfw0"
      },
      "execution_count": null,
      "outputs": []
    },
    {
      "cell_type": "markdown",
      "source": [
        "# Importação das Bibliotecas"
      ],
      "metadata": {
        "id": "EL7M4hCDzIyt"
      }
    },
    {
      "cell_type": "code",
      "source": [
        "import pandas as pd\n",
        "import os\n",
        "import numpy as np\n",
        "import pymongo\n",
        "from pymongo import MongoClient"
      ],
      "metadata": {
        "id": "AWtL41dazHW-"
      },
      "execution_count": 3,
      "outputs": []
    },
    {
      "cell_type": "code",
      "source": [
        "# Importação das Bibliotecas para visualização de Dados\n",
        "import matplotlib.pyplot as plt\n",
        "import plotly.express as px"
      ],
      "metadata": {
        "id": "1V2m4588z69w"
      },
      "execution_count": 4,
      "outputs": []
    },
    {
      "cell_type": "markdown",
      "source": [
        "# Carregamento da Base de Dados"
      ],
      "metadata": {
        "id": "KpykZZ5p0Wjf"
      }
    },
    {
      "cell_type": "code",
      "source": [
        "df = pd.read_csv('/content/disney_movies.csv')"
      ],
      "metadata": {
        "id": "BWg3hDw10sLo"
      },
      "execution_count": 5,
      "outputs": []
    },
    {
      "cell_type": "code",
      "source": [
        "# Exibindo o Dataset\n",
        "df"
      ],
      "metadata": {
        "id": "1gZm2UHY0xTm"
      },
      "execution_count": null,
      "outputs": []
    },
    {
      "cell_type": "markdown",
      "source": [
        "# Backup do Dataframe"
      ],
      "metadata": {
        "id": "GeZ1Y1kG1J93"
      }
    },
    {
      "cell_type": "code",
      "source": [
        "# Faz-se necessário realizar um backup do dataframe carregado antes de qualquer manipulação de dados, em caso de algum erro\n",
        "# nos processos posteriores, os dados estarão assegurados\n",
        "backup_df = df.copy"
      ],
      "metadata": {
        "id": "a4sm5GGW1NCg"
      },
      "execution_count": 7,
      "outputs": []
    },
    {
      "cell_type": "markdown",
      "source": [
        "# Pré Análise do Dataframe"
      ],
      "metadata": {
        "id": "KTTGeB-I1XhD"
      }
    },
    {
      "cell_type": "code",
      "source": [
        "# Verificando o nome das colunas assim como os seus respectivos títulos\n",
        "df.dtypes"
      ],
      "metadata": {
        "id": "R5V69fvq2I6G"
      },
      "execution_count": null,
      "outputs": []
    },
    {
      "cell_type": "code",
      "source": [
        "# Exibindo as 10 primeiras linhas do Dataframe\n",
        "df.head(10)"
      ],
      "metadata": {
        "id": "sH-d6Smw1j0G"
      },
      "execution_count": null,
      "outputs": []
    },
    {
      "cell_type": "code",
      "source": [
        "# Exibindo as 10 últimas linhas do Dataframe\n",
        "df.tail(10)"
      ],
      "metadata": {
        "id": "WW0xpbfz15DM"
      },
      "execution_count": null,
      "outputs": []
    },
    {
      "cell_type": "code",
      "source": [
        "# Exibindo o tamanho do Dataframe\n",
        "df.shape"
      ],
      "metadata": {
        "id": "kWAlo8By2bbG"
      },
      "execution_count": null,
      "outputs": []
    },
    {
      "cell_type": "markdown",
      "source": [
        "# Tratamento da Base de Dados"
      ],
      "metadata": {
        "id": "HaBml3Ud2xGt"
      }
    },
    {
      "cell_type": "code",
      "source": [
        "pd.unique(df['movie_title'])"
      ],
      "metadata": {
        "id": "HyukPUvy22YV"
      },
      "execution_count": null,
      "outputs": []
    },
    {
      "cell_type": "code",
      "source": [
        "pd.unique(df['release_date'])"
      ],
      "metadata": {
        "id": "L88wjvJv3h0Q"
      },
      "execution_count": null,
      "outputs": []
    },
    {
      "cell_type": "code",
      "source": [
        "pd.unique(df['genre'])"
      ],
      "metadata": {
        "id": "cYvEQQL83syo"
      },
      "execution_count": null,
      "outputs": []
    },
    {
      "cell_type": "code",
      "source": [
        "pd.unique(df['mpaa_rating'])"
      ],
      "metadata": {
        "id": "4LaX175-32bP"
      },
      "execution_count": null,
      "outputs": []
    },
    {
      "cell_type": "code",
      "source": [
        "pd.unique(df['total_gross'])"
      ],
      "metadata": {
        "id": "Lb_kg35S3-he"
      },
      "execution_count": null,
      "outputs": []
    },
    {
      "cell_type": "code",
      "source": [
        "pd.unique(df['inflation_adjusted_gross'])"
      ],
      "metadata": {
        "id": "sE9V0z8j4Kv_"
      },
      "execution_count": null,
      "outputs": []
    },
    {
      "cell_type": "markdown",
      "source": [
        "# Limpeza de Inconsistências e Padronização de Colunas"
      ],
      "metadata": {
        "id": "SnSgc7hd4nhO"
      }
    },
    {
      "cell_type": "code",
      "source": [
        "df.rename(columns={\n",
        "    'movie_title':'titulo_do_filme',\n",
        "    'release_date':'data_de_lancamento',\n",
        "    'genre': 'genero',\n",
        "    'mpaa_rating': 'mpa_classificacao',\n",
        "    'total_gross': 'total_bruto',\n",
        "    'inflation_adjusted_gross': 'bruto_ajustado_pela_inflacao'\n",
        "},inplace=True)"
      ],
      "metadata": {
        "id": "g7CO6nrP6hxr"
      },
      "execution_count": 19,
      "outputs": []
    },
    {
      "cell_type": "code",
      "source": [
        "# Conferindo dataframe após manipulação\n",
        "df.head()"
      ],
      "metadata": {
        "id": "FwYAQKSl9iNO"
      },
      "execution_count": null,
      "outputs": []
    },
    {
      "cell_type": "code",
      "source": [
        "# Renomeando e traduzindo registros da coluna 'genero'\n",
        "df.replace({'genero':'Musical'}, 'musical',regex=True, inplace=True)\n",
        "df.replace({'genero':'Adventure'}, 'aventura',regex=True, inplace=True)\n",
        "df.replace({'genero':'Drama'}, 'drama',regex=True, inplace=True)\n",
        "df.replace({'genero':'Comedy'}, 'comedia',regex=True, inplace=True)\n",
        "df.replace({'genero':'Action'}, 'acao',regex=True, inplace=True)\n",
        "df.replace({'genero':'Horror'}, 'terror',regex=True, inplace=True)\n",
        "df.replace({'genero':'Thriller/Suspense'}, 'suspense',regex=True, inplace=True)\n",
        "df.replace({'genero':'Western'}, 'ocidental',regex=True, inplace=True)\n",
        "df.replace({'genero':'Documentary'}, 'documentario',regex=True, inplace=True)\n",
        "df.replace({'genero':'Concert/Performance'}, 'concerto_performance',regex=True, inplace=True)"
      ],
      "metadata": {
        "id": "wCahXOxe_LAG"
      },
      "execution_count": 22,
      "outputs": []
    },
    {
      "cell_type": "code",
      "source": [
        "df['genero'] = df['genero'].str.strip()  # Remove espaços extras\n",
        "df.replace({'genero': 'Romantic comedia'}, 'comedia_romantica', regex=True, inplace=True)"
      ],
      "metadata": {
        "id": "fK8MRdlfaF81"
      },
      "execution_count": 23,
      "outputs": []
    },
    {
      "cell_type": "code",
      "source": [
        "df['genero'] = df['genero'].str.strip()  # Remove espaços extras\n",
        "df.replace({'genero': 'Black comedia'}, 'comedia_humor_negro', regex=True, inplace=True)"
      ],
      "metadata": {
        "id": "6HvWBPbXbmov"
      },
      "execution_count": 24,
      "outputs": []
    },
    {
      "cell_type": "code",
      "source": [
        "# Conferindo dataframe após manipulação\n",
        "pd.unique(df['genero'])"
      ],
      "metadata": {
        "id": "R5DhbfeCCPkm"
      },
      "execution_count": null,
      "outputs": []
    },
    {
      "cell_type": "code",
      "source": [
        "# Convertendo coluna \"data_de_lancamento\" para 'datetime'\n",
        "df['data_de_lancamento'] = pd.to_datetime(df['data_de_lancamento'])"
      ],
      "metadata": {
        "id": "lrE8Xi2AcxKN"
      },
      "execution_count": 27,
      "outputs": []
    },
    {
      "cell_type": "code",
      "source": [
        "# Conferindo após conversão\n",
        "df.dtypes"
      ],
      "metadata": {
        "id": "paU_3SqQda_C"
      },
      "execution_count": null,
      "outputs": []
    },
    {
      "cell_type": "code",
      "source": [
        "# Verificando se o dataframe possui dados faltantes, ou seja, nulls\n",
        "df.isnull().sum()"
      ],
      "metadata": {
        "id": "02mYkxHIdufD"
      },
      "execution_count": null,
      "outputs": []
    },
    {
      "cell_type": "code",
      "source": [
        "# Como verificado na etapa anterior, notamos duas colunas com dados faltantes, desta forma iremos substituir por um valor personalizado\n",
        "# Que neste caso será o termo \"nao_definido\"\n",
        "valor_personalizado = \"nao_definido\"  # Substituição pelo valor desejado\n",
        "df['genero'].fillna(valor_personalizado, inplace=True)\n",
        "df['mpa_classificacao'].fillna(valor_personalizado, inplace=True)\n"
      ],
      "metadata": {
        "id": "FpJoH4s5f5Yc"
      },
      "execution_count": 30,
      "outputs": []
    },
    {
      "cell_type": "code",
      "source": [
        "# Verificando o dataframe após alteração\n",
        "df.isnull().sum()\n",
        "# Como podemos notar, os valores nulos foram preenchidos, tornando o dataframe mais limpo"
      ],
      "metadata": {
        "id": "HEy6Go10gzNM"
      },
      "execution_count": null,
      "outputs": []
    },
    {
      "cell_type": "code",
      "source": [
        "# Verificando a existência de dados duplicados\n",
        "duplicados = df.duplicated()\n",
        "num_duplicados = duplicados.sum()\n",
        "print(num_duplicados)\n",
        "# Como podemos observar, não existe linhas duplicadas neste dataframe"
      ],
      "metadata": {
        "id": "xLmBcKBAhMIO"
      },
      "execution_count": null,
      "outputs": []
    },
    {
      "cell_type": "markdown",
      "source": [
        "# Visualização dos Dados"
      ],
      "metadata": {
        "id": "AO6cfiVOhY4L"
      }
    },
    {
      "cell_type": "code",
      "source": [
        "# ----------------------------------- Top 5 Gêneros de Filmes Mais Frequentes -----------------------------------\n",
        "\n",
        "# Contando quantos filmes de cada gênero existem usando 'value_counts()'\n",
        "genero_counts = df['genero'].value_counts()\n",
        "\n",
        "# Selecionando os 5 gêneros mais frequentes\n",
        "top_generos = genero_counts.head(5)\n",
        "\n",
        "# Criando um gráfico de barras\n",
        "plt.figure(figsize=(10, 6))\n",
        "top_generos.plot(kind='bar', color='skyblue')\n",
        "plt.title('Top 5 Gêneros de Filmes Mais Frequentes')\n",
        "plt.xlabel('Gênero')\n",
        "plt.ylabel('Contagem')\n",
        "\n",
        "# Exibindo o gráfico\n",
        "plt.show()\n"
      ],
      "metadata": {
        "id": "ltbt5RzIhd8k"
      },
      "execution_count": null,
      "outputs": []
    },
    {
      "cell_type": "code",
      "source": [
        "# ------------------------------- Distribuição da Classificação dos Filmes --------------------------------------\n",
        "\n",
        "# Você pode contar quantos filmes de cada gênero existem usando 'value_counts()'\n",
        "genero_counts = df['mpa_classificacao'].value_counts()\n",
        "\n",
        "# Crie um gráfico de pizza\n",
        "plt.figure(figsize=(8, 8))\n",
        "plt.pie(genero_counts, labels=genero_counts.index, autopct='%1.1f%%', startangle=140)\n",
        "plt.title('Distribuição da Classificação dos Filmes')\n",
        "plt.axis('equal')  # Isso garante que o gráfico seja uma pizza perfeita\n",
        "\n",
        "# Exiba o gráfico\n",
        "plt.show()"
      ],
      "metadata": {
        "id": "-n_OcUUUj1-0"
      },
      "execution_count": null,
      "outputs": []
    },
    {
      "cell_type": "code",
      "source": [
        "# ---------------------------------- Filmes com as Maiores Rendas e Suas Datas de Lançamento ----------------------------------\n",
        "\n",
        "# Ordenação do DataFrame por renda em ordem decrescente e seleção dos 10 filmes com as maiores rendas\n",
        "top_filmes = df.sort_values(by='total_bruto', ascending=False).head(10)\n",
        "\n",
        "# Criando um gráfico interativo\n",
        "fig = px.scatter(top_filmes, x='data_de_lancamento', y='total_bruto', text='titulo_do_filme',\n",
        "                 title='Filmes com as Maiores Rendas e Suas Datas de Lançamento')\n",
        "\n",
        "# Personalizando o layout do gráfico\n",
        "fig.update_traces(textposition='top center', textfont_size=10)\n",
        "fig.update_xaxes(title_text='Data de Lançamento')\n",
        "fig.update_yaxes(title_text='Renda')\n",
        "\n",
        "# Exibindo o gráfico\n",
        "fig.show()"
      ],
      "metadata": {
        "id": "SjgD3t2mky-M"
      },
      "execution_count": null,
      "outputs": []
    },
    {
      "cell_type": "markdown",
      "source": [
        "# Salvando Dataframe tratado localmente em formato CSV"
      ],
      "metadata": {
        "id": "zpHD9ju-hcS8"
      }
    },
    {
      "cell_type": "code",
      "source": [
        "df.to_csv('disney_movies_treated.csv', index=False)"
      ],
      "metadata": {
        "id": "k1Dtpt-2hrv2"
      },
      "execution_count": 45,
      "outputs": []
    },
    {
      "cell_type": "markdown",
      "source": [
        "# Envio para o MongoDB"
      ],
      "metadata": {
        "id": "l0OsnClicwwl"
      }
    },
    {
      "cell_type": "code",
      "source": [
        "# Criando conexão com o MongoDB\n",
        "\n",
        "uri = \"mongo_uri\"\n",
        "client = MongoClient(uri,tls=True,tlsCertificateKeyFile='mongo_key')"
      ],
      "metadata": {
        "id": "PU6o1ywsc0NI"
      },
      "execution_count": 40,
      "outputs": []
    },
    {
      "cell_type": "code",
      "source": [
        "# Criando coleção para enviar para o MongoDB\n",
        "\n",
        "db = client['disney_movies']\n",
        "colecaotreated = db['disney_movies_treated']"
      ],
      "metadata": {
        "id": "Fhrc_0Bsf2bg"
      },
      "execution_count": 41,
      "outputs": []
    },
    {
      "cell_type": "code",
      "source": [
        "# Enviando o Dataset tratado para o MongoDB\n",
        "\n",
        "df.reset_index(drop=True)\n",
        "df01 = df.to_dict(\"records\")\n",
        "colecaotreated.insert_many(df01)"
      ],
      "metadata": {
        "id": "yDWGH7AhgGfV"
      },
      "execution_count": null,
      "outputs": []
    },
    {
      "cell_type": "code",
      "source": [
        "# Verificando se o arquivo foi enviado com sucesso\n",
        "colecaotreated.count_documents({})\n",
        "# Como podemos conferir o dataset foi enviado corretamente para o MongoDB"
      ],
      "metadata": {
        "id": "1JH_TOJzgnHM"
      },
      "execution_count": null,
      "outputs": []
    },
    {
      "cell_type": "markdown",
      "source": [
        "# FIM DO PROCESSO"
      ],
      "metadata": {
        "id": "KBdTTdPugrjO"
      }
    }
  ]
}